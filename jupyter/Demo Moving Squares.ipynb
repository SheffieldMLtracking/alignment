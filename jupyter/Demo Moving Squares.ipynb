{
 "cells": [
  {
   "cell_type": "code",
   "execution_count": 5,
   "id": "e7984510",
   "metadata": {},
   "outputs": [],
   "source": [
    "from alignment import Alignment, Camera, Photo,CalibrationSquareObservation\n",
    "import numpy as np\n",
    "from glob import glob\n",
    "import regex as re\n",
    "import matplotlib.pyplot as plt\n",
    "%matplotlib inline\n",
    "\n",
    "class AlignmentMovingMarkers(Alignment):\n",
    "    def getsecondsfromfn(self,fn):\n",
    "        \"\"\"Get number of seconds since midnight from filename, returns float\"\"\"\n",
    "        timestring = re.findall('([0-9]{2}:[0-9]{2}:[0-9]{2}.[0-9]{6})',fn)[0]\n",
    "        hours,mins,secs = [float(st) for st in timestring.split(':')]\n",
    "        return hours*3600+mins*60+secs\n",
    "\n",
    "    def getintervalstarts(self,times,interval_length):\n",
    "        \"\"\"\n",
    "\n",
    "        \"\"\"\n",
    "        intervals = []\n",
    "        intervalstart = 0\n",
    "        for t in sorted(times):\n",
    "            if t>intervalstart+interval_length:\n",
    "                intervals.append(t)\n",
    "                intervalstart=t\n",
    "        intervals.append(intervals[-1]+interval_length)\n",
    "        intervals = np.array(intervals)\n",
    "        return intervals\n",
    "\n",
    "    def getalltimes(self,paths):\n",
    "        alltimes = []\n",
    "        for imgfiles in allimgfiles:\n",
    "            for fn in imgfiles:\n",
    "                alltimes.append(self.getsecondsfromfn(fn))\n",
    "        return alltimes\n",
    "    \n",
    "    def getinterval(self,t):\n",
    "        \"\"\"\n",
    "        Returns which interval index a given time is in.\n",
    "        \"\"\"\n",
    "        try:\n",
    "            interval = np.where(t>=self.intervals)[0][-1]\n",
    "            if interval==len(self.intervals)-1:\n",
    "                raise NotInIntervalException\n",
    "        except IndexError as exc:\n",
    "            raise NotInIntervalException from exc\n",
    "        return interval\n",
    "    \n",
    "    def addmissingobs(self):\n",
    "        for photo in self.photos:\n",
    "            if len(photo.observations)==0:\n",
    "                idx = photo.timeindex\n",
    "                for same_idx_photo in self.photos:\n",
    "                    if same_idx_photo.timeindex!=idx: continue\n",
    "                    if len(same_idx_photo.observations)==0: continue\n",
    "                    obs = CalibrationSquareObservation(same_idx_photo.observations[0].calsquare,photo)\n",
    "                    photo.observations.append(obs)\n",
    "                                    \n",
    "\n",
    "    def __init__(self,allimgfiles,interval_length=1,xval=None):\n",
    "        \"\"\"\n",
    "        Use this class if:\n",
    "        - The cameras are stationary,\n",
    "        - The code(s) move.\n",
    "        Parameters:\n",
    "        - allimgfiles is a list of lists of strings, each list is a single camera's photos.\n",
    "            The code is assumed to be stationary within 'intervals', so we expect that two photos\n",
    "            (taken by two cameras within interval_length are of code in the same location)\n",
    "        - interval_length: how long an interval is (in seconds), default = 1\n",
    "        \"\"\"\n",
    "        self.allimgfiles = allimgfiles\n",
    "        #compute the start times of intervals\n",
    "        times = self.getalltimes(allimgfiles) \n",
    "        self.intervals = self.getintervalstarts(times,interval_length)\n",
    "        \n",
    "        self.photos = []\n",
    "        self.calsquares = {}\n",
    "        self.cameras = []\n",
    "\n",
    "        \n",
    "        for imgi,imgfiles in enumerate(allimgfiles):\n",
    "            cam = Camera()\n",
    "            self.cameras.append(cam)\n",
    "            for fn in imgfiles:\n",
    "                interval = self.getinterval(self.getsecondsfromfn(fn))\n",
    "                data = np.load(fn,allow_pickle=True)\n",
    "                image = data['img'].astype(float)\n",
    "                photo = Photo(cam,image,interval)\n",
    "                photo.decode(self.calsquares,timeout=2000,max_count=1)\n",
    "                self.photos.append(photo)\n",
    "            \n",
    "        \n",
    "    def draw(self):\n",
    "        for i in range(len(self.intervals)):\n",
    "            for j in range(len(self.cameras)):\n",
    "                plt.subplot(len(self.intervals),len(self.cameras),i*len(self.cameras)+j+1)\n",
    "                for photo in self.photos:\n",
    "                    if photo.camera == self.cameras[j]:\n",
    "                        if photo.timeindex == i:     \n",
    "                            photo.draw()\n",
    "                            plt.xlim([0,2048])\n",
    "                            plt.ylim([1536,0])    "
   ]
  },
  {
   "cell_type": "code",
   "execution_count": 6,
   "id": "b069e626",
   "metadata": {},
   "outputs": [
    {
     "name": "stdout",
     "output_type": "stream",
     "text": [
      "Not in cache, decoding...\n",
      "Not in cache, decoding...\n",
      "Not in cache, decoding...\n",
      "Not in cache, decoding...\n",
      "Not in cache, decoding...\n",
      "Not in cache, decoding...\n",
      "Not in cache, decoding...\n",
      "Not in cache, decoding...\n",
      "Not in cache, decoding...\n",
      "Not in cache, decoding...\n",
      "Not in cache, decoding...\n",
      "Not in cache, decoding...\n",
      "Not in cache, decoding...\n",
      "Not in cache, decoding...\n",
      "Not in cache, decoding...\n",
      "Not in cache, decoding...\n"
     ]
    }
   ],
   "source": [
    "paths = ['demo_sametag/cam1','demo_sametag/cam2']\n",
    "allimgfiles = [sorted(glob(path+'/*.np'))[:8] for path in paths]\n",
    "alignment = AlignmentMovingMarkers(allimgfiles)"
   ]
  },
  {
   "cell_type": "code",
   "execution_count": null,
   "id": "16e2b515",
   "metadata": {},
   "outputs": [
    {
     "name": "stdout",
     "output_type": "stream",
     "text": [
      "1657233.1722289096\n",
      "749496.7557955763\n",
      "377900.99511810666\n",
      "294765.08552676573\n",
      "288164.36838234175\n",
      "65294.82308950485\n"
     ]
    }
   ],
   "source": [
    "alignment.firstpass()\n",
    "alignment.secondpass()"
   ]
  },
  {
   "cell_type": "code",
   "execution_count": null,
   "id": "775d9ebe",
   "metadata": {},
   "outputs": [],
   "source": [
    "alignment.addmissingobs()"
   ]
  },
  {
   "cell_type": "code",
   "execution_count": null,
   "id": "960f700e",
   "metadata": {},
   "outputs": [],
   "source": [
    "#plt.figure(figsize=[8,50])\n",
    "plt.figure(figsize=[20,20])\n",
    "alignment.draw()"
   ]
  },
  {
   "cell_type": "code",
   "execution_count": null,
   "id": "0b706a6a",
   "metadata": {},
   "outputs": [],
   "source": []
  }
 ],
 "metadata": {
  "kernelspec": {
   "display_name": "Python 3 (ipykernel)",
   "language": "python",
   "name": "python3"
  },
  "language_info": {
   "codemirror_mode": {
    "name": "ipython",
    "version": 3
   },
   "file_extension": ".py",
   "mimetype": "text/x-python",
   "name": "python",
   "nbconvert_exporter": "python",
   "pygments_lexer": "ipython3",
   "version": "3.10.9"
  }
 },
 "nbformat": 4,
 "nbformat_minor": 5
}
